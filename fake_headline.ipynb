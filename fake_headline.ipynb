{
 "cells": [
  {
   "cell_type": "code",
   "execution_count": 2,
   "id": "68f8fe06",
   "metadata": {},
   "outputs": [
    {
     "name": "stdout",
     "output_type": "stream",
     "text": [
      "\n",
      " Donald trumph was drinking soda near kormangia banglore\n",
      "\n",
      " Salman khan was beaten by monkeys near kormangia banglore\n",
      "I hope you had fun! Good bye\n"
     ]
    }
   ],
   "source": [
    "import random\n",
    "subjects=[\n",
    "    \"Salman khan\",\n",
    "    \"Amit Shah\",\n",
    "    \"Priyanka chopra\",\n",
    "    \"Sachin tendulkar\",\n",
    "    \"Donald trumph\",\n",
    "\n",
    "]\n",
    "\n",
    "activity=[\n",
    "    \"was dancing on the street\",\n",
    "    \"was beaten by monkeys\",\n",
    "    \"was buying buffalo\",\n",
    "    \"was drinking soda\",\n",
    "    \"eating frog\",\n",
    "\n",
    "]\n",
    "\n",
    "location=[\n",
    "    \"near metro station\",\n",
    "    \"in jaipur\",\n",
    "    \"near kormangia banglore\",\n",
    "    \"at india gate\",\n",
    "    \"near kolkata park\",\n",
    "]\n",
    "\n",
    "while True:\n",
    "    sub=random.choice(subjects)\n",
    "    loc=random.choice(location)\n",
    "    act=random.choice(activity)\n",
    "    \n",
    "    print(\"\\n\", f\"{sub} {act} {loc}\")\n",
    "\n",
    "    user_input=input(\"Do you want to print another fake headline ? (YES/NO): \").strip().lower()\n",
    "\n",
    "    if user_input==\"no\":\n",
    "        print(\"I hope you had fun! Good bye\")\n",
    "        break\n",
    "\n"
   ]
  },
  {
   "cell_type": "markdown",
   "id": "07c9899c",
   "metadata": {},
   "source": []
  },
  {
   "cell_type": "code",
   "execution_count": null,
   "id": "6e1529de",
   "metadata": {},
   "outputs": [],
   "source": []
  },
  {
   "cell_type": "code",
   "execution_count": null,
   "id": "48aaf938",
   "metadata": {},
   "outputs": [],
   "source": []
  },
  {
   "cell_type": "code",
   "execution_count": null,
   "id": "c2b4de49",
   "metadata": {},
   "outputs": [],
   "source": []
  },
  {
   "cell_type": "code",
   "execution_count": null,
   "id": "2986880a",
   "metadata": {},
   "outputs": [],
   "source": []
  },
  {
   "cell_type": "code",
   "execution_count": null,
   "id": "049fe049",
   "metadata": {},
   "outputs": [],
   "source": []
  }
 ],
 "metadata": {
  "kernelspec": {
   "display_name": "base",
   "language": "python",
   "name": "python3"
  },
  "language_info": {
   "codemirror_mode": {
    "name": "ipython",
    "version": 3
   },
   "file_extension": ".py",
   "mimetype": "text/x-python",
   "name": "python",
   "nbconvert_exporter": "python",
   "pygments_lexer": "ipython3",
   "version": "3.13.5"
  }
 },
 "nbformat": 4,
 "nbformat_minor": 5
}
